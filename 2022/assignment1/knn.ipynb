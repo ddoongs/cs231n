{
 "cells": [
  {
   "cell_type": "code",
   "execution_count": null,
   "id": "303f1022",
   "metadata": {},
   "outputs": [],
   "source": [
    "# This mounts your Google Drive to the Colab VM.\n",
    "from google.colab import drive\n",
    "drive.mount('/content/drive')"
   ]
  },
  {
   "cell_type": "code",
   "execution_count": null,
   "id": "d123dfe2",
   "metadata": {},
   "outputs": [],
   "source": [
    "# TODO: Enter the foldername in your Drive where you have saved the unzipped\n",
    "# assignment folder, e.g. 'cs231n/assignments/assignment1/'\n",
    "FOLDERNAME = '/content/drive/MyDrive/cs231n/2022/assignment1'\n",
    "assert FOLDERNAME is not None, '/content/drive/MyDrive/cs231n/2022/assignment1'"
   ]
  },
  {
   "cell_type": "code",
   "execution_count": null,
   "id": "c01bf6dd",
   "metadata": {},
   "outputs": [],
   "source": [
    "# Now that we've mounted your Drive, this ensures that\n",
    "# the Python interpreter of the Colab VM can load\n",
    "# python files from within it.\n",
    "import sys\n",
    "sys.path.append('/content/drive/MyDrive/cs231n/2022/assignment1')"
   ]
  },
  {
   "cell_type": "code",
   "execution_count": null,
   "id": "6720b934",
   "metadata": {},
   "outputs": [],
   "source": [
    "# This downloads the CIFAR-10 dataset to your Drive\n",
    "# if it doesn't already exist.\n",
    "%cd '/content/drive/MyDrive/cs231n/2022/assignment1/cs231n/datasets'\n",
    "!bash get_datasets.sh\n",
    "%cd '/content/drive/MyDrive/cs231n/2022/assignment1'"
   ]
  },
  {
   "cell_type": "markdown",
   "id": "e3ea94a8",
   "metadata": {
    "tags": [
     "pdf-title"
    ]
   },
   "source": [
    "# k-Nearest Neighbor (kNN) exercise\n",
    "\n",
    "*Complete and hand in this completed worksheet (including its outputs and any supporting code outside of the worksheet) with your assignment submission. For more details see the [assignments page](http://vision.stanford.edu/teaching/cs231n/assignments.html) on the course website.*\n",
    "\n",
    "The kNN classifier consists of two stages:\n",
    "\n",
    "- During training, the classifier takes the training data and simply remembers it\n",
    "  - 훈련 중, classifier는 training data를 가지고 simply remember 한다.\n",
    "- During testing, kNN classifies every test image by comparing to all training images and transfering the labels of the k most similar training examples\n",
    "  - testing 중, kNN은 모든 test image를 classify한다. training images 모두와 비교하여 label을 가장 training example과 가까운 곳으로 옮겨서.\n",
    "- The value of k is cross-validated\n",
    "  - k의 값은 cross-validated\n",
    "\n",
    "In this exercise you will implement these steps and understand the basic Image Classification pipeline, cross-validation, and gain proficiency in writing efficient, vectorized code.\n",
    "- image classification pipeline 이해\n",
    "- cross-validation 이해\n",
    "- 효율적이고 vectorized code 작성 능력 습득"
   ]
  },
  {
   "cell_type": "code",
   "execution_count": null,
   "id": "fb87160d",
   "metadata": {
    "tags": [
     "pdf-ignore"
    ]
   },
   "outputs": [],
   "source": [
    "# Run some setup code for this notebook.\n",
    "\n",
    "import random\n",
    "import numpy as np\n",
    "from cs231n.data_utils import load_CIFAR10\n",
    "import matplotlib.pyplot as plt\n",
    "\n",
    "# This is a bit of magic to make matplotlib figures appear inline in the notebook\n",
    "# rather than in a new window.\n",
    "%matplotlib inline\n",
    "plt.rcParams['figure.figsize'] = (10.0, 8.0) # set default size of plots\n",
    "plt.rcParams['image.interpolation'] = 'nearest'\n",
    "plt.rcParams['image.cmap'] = 'gray'\n",
    "\n",
    "# Some more magic so that the notebook will reload external python modules;\n",
    "# see http://stackoverflow.com/questions/1907993/autoreload-of-modules-in-ipython\n",
    "%load_ext autoreload\n",
    "%autoreload 2"
   ]
  },
  {
   "cell_type": "markdown",
   "id": "70556f26",
   "metadata": {},
   "source": [
    "# 데이터 불러오기\n",
    "\n",
    "데이터를 불러오고, 데이터의 shape을 파악한다.\n",
    "1. 데이터 불러오기 : load_CIFAR10('data주소')\n",
    "2. 데이터 shape 파악 : .shape 사용\n",
    "- Training : 50000개, test 10000개\n",
    "- cifar10 : 32 32 3 의 shape"
   ]
  },
  {
   "cell_type": "code",
   "execution_count": null,
   "id": "452e9b79",
   "metadata": {
    "tags": [
     "pdf-ignore"
    ]
   },
   "outputs": [],
   "source": [
    "# Load the raw CIFAR-10 data.\n",
    "cifar10_dir = 'cs231n/datasets/cifar-10-batches-py'\n",
    "\n",
    "# Cleaning up variables to prevent loading data multiple times (which may cause memory issue)\n",
    "try:\n",
    "   del X_train, y_train\n",
    "   del X_test, y_test\n",
    "   print('Clear previously loaded data.')\n",
    "except:\n",
    "   pass\n",
    "\n",
    "X_train, y_train, X_test, y_test = load_CIFAR10(cifar10_dir)\n",
    "\n",
    "# As a sanity check, we print out the size of the training and test data.\n",
    "print('Training data shape: ', X_train.shape)\n",
    "print('Training labels shape: ', y_train.shape)\n",
    "print('Test data shape: ', X_test.shape)\n",
    "print('Test labels shape: ', y_test.shape)"
   ]
  },
  {
   "cell_type": "markdown",
   "id": "87eece07",
   "metadata": {},
   "source": [
    "# Data visualization\n",
    "\n",
    "flatnonzero(a): a에서 0이 아닌 index를 반환한다.  \n",
    "random.choice(a) : a에서 랜덤으로 하나 뽑아주기.  \n",
    "plt.subplot(row, column, index) : 여러 개를 하나의 화면에 띄우기  \n"
   ]
  },
  {
   "cell_type": "code",
   "execution_count": null,
   "id": "af5b2989",
   "metadata": {
    "tags": [
     "pdf-ignore"
    ]
   },
   "outputs": [],
   "source": [
    "# Visualize some examples from the dataset.\n",
    "# We show a few examples of training images from each class.\n",
    "classes = ['plane', 'car', 'bird', 'cat', 'deer', 'dog', 'frog', 'horse', 'ship', 'truck']\n",
    "num_classes = len(classes)\n",
    "samples_per_class = 7\n",
    "for y, cls in enumerate(classes):\n",
    "    idxs = np.flatnonzero(y_train == y)\n",
    "    #train data의 class 중 y와 같은 값을 가지는 class의 index를 저장\n",
    "    idxs = np.random.choice(idxs, samples_per_class, replace=False)\n",
    "    # idxs ~ samples_per_class(7) 까지의 수 중 랜덤으로 하나 뽑기\n",
    "    \n",
    "    #print(idxs)\n",
    "\n",
    "\n",
    "    # i : idxs의 index\n",
    "    # idx : idxs의 값\n",
    "    for i, idx in enumerate(idxs):\n",
    "        #print(i, idx)\n",
    "        plt_idx = i * num_classes + y + 1\n",
    "        plt.subplot(samples_per_class, num_classes, plt_idx)\n",
    "        plt.imshow(X_train[idx].astype('uint8'))\n",
    "        plt.axis('off')\n",
    "        if i == 0:\n",
    "            plt.title(cls)\n",
    "plt.show()"
   ]
  },
  {
   "cell_type": "markdown",
   "id": "5277e70d",
   "metadata": {},
   "source": [
    "# Data preprocessing\n",
    "\n",
    "np.reshape(변경할 배열, 변경될 차원)  \n",
    "np.reshape에서 -1의 의미\n",
    "- 남은 곳의 차원을 의미\n",
    "- ex) reshape(4각정사각배열,(2,-1)) -> 행=2, 열=8"
   ]
  },
  {
   "cell_type": "code",
   "execution_count": null,
   "id": "b754c6d9",
   "metadata": {
    "tags": [
     "pdf-ignore"
    ]
   },
   "outputs": [],
   "source": [
    "# Subsample the data for more efficient code execution in this exercise\n",
    "num_training = 5000\n",
    "mask = list(range(num_training))\n",
    "X_train = X_train[mask]\n",
    "y_train = y_train[mask]\n",
    "# training data를 5000개만 사용\n",
    "\n",
    "num_test = 500\n",
    "mask = list(range(num_test))\n",
    "X_test = X_test[mask]\n",
    "y_test = y_test[mask]\n",
    "#test data를 500개만 사용\n",
    "#print(X_train.shape)\n",
    "#print(X_test.shape)\n",
    "# Reshape the image data into rows\n",
    "X_train = np.reshape(X_train, (X_train.shape[0], -1))\n",
    "X_test = np.reshape(X_test, (X_test.shape[0], -1))\n",
    "print(X_train.shape, X_test.shape)"
   ]
  },
  {
   "cell_type": "code",
   "execution_count": null,
   "id": "d796b6f8",
   "metadata": {
    "tags": [
     "pdf-ignore"
    ]
   },
   "outputs": [],
   "source": [
    "from cs231n.classifiers import KNearestNeighbor\n",
    "\n",
    "# Create a kNN classifier instance. \n",
    "# Remember that training a kNN classifier is a noop: \n",
    "# the Classifier simply remembers the data and does no further processing \n",
    "classifier = KNearestNeighbor()\n",
    "classifier.train(X_train, y_train)"
   ]
  },
  {
   "cell_type": "markdown",
   "id": "55bcc84c",
   "metadata": {},
   "source": [
    "We would now like to classify the test data with the kNN classifier. Recall that we can break down this process into two steps: \n",
    "\n",
    "1. First we must compute the distances between all test examples and all train examples. \n",
    "- 우리는 모든 test와 train에 대해 거리를 계산해야 한다.\n",
    "2. Given these distances, for each test example we find the k nearest examples and have them vote for the label\n",
    "- 우리는 이 거리를 통해, 각각의 test example에 대해 k nearest를 찾고, label을 위해 투표를 진행한다.\n",
    "\n",
    "Lets begin with computing the distance matrix between all training and test examples. For example, if there are **Ntr** training examples and **Nte** test examples, this stage should result in a **Nte x Ntr** matrix where each element (i,j) is the distance between the i-th test and j-th train example.\n",
    "\n",
    "**Note: For the three distance computations that we require you to implement in this notebook, you may not use the np.linalg.norm() function that numpy provides.**\n",
    "\n",
    "First, open `cs231n/classifiers/k_nearest_neighbor.py` and implement the function `compute_distances_two_loops` that uses a (very inefficient) double loop over all pairs of (test, train) examples and computes the distance matrix one element at a time.\n",
    "- k_nearest_neighbor.py를 통해 double loop를 구현하고 시험해보자"
   ]
  },
  {
   "cell_type": "code",
   "execution_count": null,
   "id": "74a5a4d4",
   "metadata": {},
   "outputs": [],
   "source": [
    "# Open cs231n/classifiers/k_nearest_neighbor.py and implement\n",
    "# compute_distances_two_loops.\n",
    "\n",
    "# Test your implementation:\n",
    "dists = classifier.compute_distances_two_loops(X_test)\n",
    "print(dists.shape)"
   ]
  },
  {
   "cell_type": "code",
   "execution_count": null,
   "id": "7583c078",
   "metadata": {},
   "outputs": [],
   "source": [
    "# We can visualize the distance matrix: each row is a single test example and\n",
    "# its distances to training examples\n",
    "plt.imshow(dists, interpolation='none')\n",
    "plt.show()"
   ]
  },
  {
   "cell_type": "markdown",
   "id": "8ced2d5d",
   "metadata": {
    "tags": [
     "pdf-inline"
    ]
   },
   "source": [
    "**Inline Question 1** \n",
    "\n",
    "Notice the structured patterns in the distance matrix, where some rows or columns are visibly brighter. (Note that with the default color scheme black indicates low distances while white indicates high distances.)\n",
    "- 일부 행이나 열이 눈에 띄게 밝아지는 거리 행렬의 구조화된 패턴을 확인하십시오. (기본 색 구성표에서 검은색은 낮은 거리를 나타내고 흰색은 높은 거리를 나타냅니다.)\n",
    "\n",
    "1. What in the data is the cause behind the distinctly bright rows?\n",
    "  - 데이터에서 뚜렷하게 밝은 열의 원인은 무엇입니까?\n",
    "2. What causes the columns?\n",
    "  - 열의 원인은 무엇입니까?\n",
    "\n",
    "$\\color{blue}{\\textit Your Answer:}$  \n",
    "1. 테스트 데이터가 트레이닝 데이터와 서로 맞지 않아 생성된다.\n",
    "   - i : test, j : train\n",
    "2. 트레이닝 데이터가 테스트 데이터와 서로 맞지 않아 생성된다.\n",
    "\n",
    "\n"
   ]
  },
  {
   "cell_type": "code",
   "execution_count": null,
   "id": "85044db5",
   "metadata": {},
   "outputs": [],
   "source": [
    "# Now implement the function predict_labels and run the code below:\n",
    "# We use k = 1 (which is Nearest Neighbor).\n",
    "y_test_pred = classifier.predict_labels(dists, k=1)\n",
    "\n",
    "# Compute and print the fraction of correctly predicted examples\n",
    "num_correct = np.sum(y_test_pred == y_test)\n",
    "accuracy = float(num_correct) / num_test\n",
    "print('Got %d / %d correct => accuracy: %f' % (num_correct, num_test, accuracy))"
   ]
  },
  {
   "cell_type": "markdown",
   "id": "646967c3",
   "metadata": {},
   "source": [
    "You should expect to see approximately `27%` accuracy. Now lets try out a larger `k`, say `k = 5`:"
   ]
  },
  {
   "cell_type": "code",
   "execution_count": null,
   "id": "05d96af2",
   "metadata": {},
   "outputs": [],
   "source": [
    "y_test_pred = classifier.predict_labels(dists, k=5)\n",
    "num_correct = np.sum(y_test_pred == y_test)\n",
    "accuracy = float(num_correct) / num_test\n",
    "print('Got %d / %d correct => accuracy: %f' % (num_correct, num_test, accuracy))"
   ]
  },
  {
   "cell_type": "markdown",
   "id": "ad5f595a",
   "metadata": {},
   "source": [
    "You should expect to see a slightly better performance than with `k = 1`."
   ]
  },
  {
   "cell_type": "markdown",
   "id": "332cf487",
   "metadata": {
    "tags": [
     "pdf-inline"
    ]
   },
   "source": [
    "**Inline Question 2**\n",
    "\n",
    "We can also use other distance metrics such as L1 distance.\n",
    "For pixel values $p_{ij}^{(k)}$ at location $(i,j)$ of some image $I_k$,\n",
    "\n",
    "the mean $\\mu$ across all pixels over all images is $$\\mu=\\frac{1}{nhw}\\sum_{k=1}^n\\sum_{i=1}^{h}\\sum_{j=1}^{w}p_{ij}^{(k)}$$\n",
    "And the pixel-wise mean $\\mu_{ij}$ across all images is \n",
    "$$\\mu_{ij}=\\frac{1}{n}\\sum_{k=1}^np_{ij}^{(k)}.$$\n",
    "The general standard deviation $\\sigma$ and pixel-wise standard deviation $\\sigma_{ij}$ is defined similarly.\n",
    "\n",
    "Which of the following preprocessing steps will not change the performance of a Nearest Neighbor classifier that uses L1 distance? Select all that apply.\n",
    "1. Subtracting the mean $\\mu$ ($\\tilde{p}_{ij}^{(k)}=p_{ij}^{(k)}-\\mu$.)\n",
    "2. Subtracting the per pixel mean $\\mu_{ij}$  ($\\tilde{p}_{ij}^{(k)}=p_{ij}^{(k)}-\\mu_{ij}$.)\n",
    "3. Subtracting the mean $\\mu$ and dividing by the standard deviation $\\sigma$.\n",
    "4. Subtracting the pixel-wise mean $\\mu_{ij}$ and dividing by the pixel-wise standard deviation $\\sigma_{ij}$.\n",
    "5. Rotating the coordinate axes of the data.\n",
    "\n",
    "-> 문제 : 1,2,3,4,5 중 어떤 preprocessing을 하였을 때 L1 distance를 이용한 KNN이 영향을 받지 않는가.\n",
    "\n",
    "1. 전체의 평균을 각 이미지의 픽셀에서 빼준다.\n",
    "2. 각 픽셀의 평균을 각 이미지의 픽셀에서 빼준다.\n",
    "3. 전체의 평균을 빼주고, 표준편차(standard deviation)으로 나눠준다.\n",
    "4. 각 픽셀의 평균을 빼주고, 픽셀 별 표준편차로 나누어 준다.\n",
    "5. data의 좌표를 회전시켜준다.\n",
    "\n",
    "$\\color{blue}{\\textit Your Answer:}$  \n",
    "\n",
    "answer : 1, 3\n",
    "\n",
    "\n",
    "$\\color{blue}{\\textit Your Explanation:}$\n",
    "\n",
    "explanation :  \n",
    "\n",
    "1. 전체의 평균을 빼주므로 모든 픽셀들이 같은 방향으로 같은 양 만큼 움직이므로 L1 distance는 변하지 않는다.\n",
    "2. 각 픽셀의 평균을 빼주는 것이므로 픽셀 별 평균 값이 달라 다른 방향, 다른 양 만큼 움직이므로 L1 distance에 영향을 줄 것이다.\n",
    "3. -> 1번과 동일\n",
    "4. -> 2번과 동일\n",
    "5. 데이터의 축이 90도의 배수만큼 변할 시에는 L1 distance가 변하지 않지만, 이외의 경우 L1 distance가 변하게 되므로 영향을 끼친다. L2 distance의 경우 영향을 받지 않는다."
   ]
  },
  {
   "cell_type": "code",
   "execution_count": null,
   "id": "5421ff31",
   "metadata": {
    "tags": [
     "pdf-ignore-input"
    ]
   },
   "outputs": [],
   "source": [
    "# Now lets speed up distance matrix computation by using partial vectorization\n",
    "# with one loop. Implement the function compute_distances_one_loop and run the\n",
    "# code below:\n",
    "dists_one = classifier.compute_distances_one_loop(X_test)\n",
    "\n",
    "# To ensure that our vectorized implementation is correct, we make sure that it\n",
    "# agrees with the naive implementation. There are many ways to decide whether\n",
    "# two matrices are similar; one of the simplest is the Frobenius norm. In case\n",
    "# you haven't seen it before, the Frobenius norm of two matrices is the square\n",
    "# root of the squared sum of differences of all elements; in other words, reshape\n",
    "# the matrices into vectors and compute the Euclidean distance between them.\n",
    "difference = np.linalg.norm(dists - dists_one, ord='fro')\n",
    "print('One loop difference was: %f' % (difference, ))\n",
    "if difference < 0.001:\n",
    "    print('Good! The distance matrices are the same')\n",
    "else:\n",
    "    print('Uh-oh! The distance matrices are different')"
   ]
  },
  {
   "cell_type": "code",
   "execution_count": null,
   "id": "0353d8bb",
   "metadata": {
    "scrolled": true,
    "tags": [
     "pdf-ignore-input"
    ]
   },
   "outputs": [],
   "source": [
    "# Now implement the fully vectorized version inside compute_distances_no_loops\n",
    "# and run the code\n",
    "dists_two = classifier.compute_distances_no_loops(X_test)\n",
    "\n",
    "# check that the distance matrix agrees with the one we computed before:\n",
    "difference = np.linalg.norm(dists - dists_two, ord='fro')\n",
    "print('No loop difference was: %f' % (difference, ))\n",
    "if difference < 0.001:\n",
    "    print('Good! The distance matrices are the same')\n",
    "else:\n",
    "    print('Uh-oh! The distance matrices are different')"
   ]
  },
  {
   "cell_type": "code",
   "execution_count": null,
   "id": "78b5a3cb",
   "metadata": {
    "tags": [
     "pdf-ignore-input"
    ],
    "test": "no_loop"
   },
   "outputs": [],
   "source": [
    "# Let's compare how fast the implementations are\n",
    "def time_function(f, *args):\n",
    "    \"\"\"\n",
    "    Call a function f with args and return the time (in seconds) that it took to execute.\n",
    "    \"\"\"\n",
    "    import time\n",
    "    tic = time.time()\n",
    "    f(*args)\n",
    "    toc = time.time()\n",
    "    return toc - tic\n",
    "\n",
    "two_loop_time = time_function(classifier.compute_distances_two_loops, X_test)\n",
    "print('Two loop version took %f seconds' % two_loop_time)\n",
    "\n",
    "one_loop_time = time_function(classifier.compute_distances_one_loop, X_test)\n",
    "print('One loop version took %f seconds' % one_loop_time)\n",
    "\n",
    "no_loop_time = time_function(classifier.compute_distances_no_loops, X_test)\n",
    "print('No loop version took %f seconds' % no_loop_time)\n",
    "\n",
    "# You should see significantly faster performance with the fully vectorized implementation!\n",
    "\n",
    "# NOTE: depending on what machine you're using, \n",
    "# you might not see a speedup when you go from two loops to one loop, \n",
    "# and might even see a slow-down."
   ]
  },
  {
   "cell_type": "markdown",
   "id": "c2e5ccad",
   "metadata": {},
   "source": [
    "### Cross-validation\n",
    "\n",
    "We have implemented the k-Nearest Neighbor classifier but we set the value k = 5 arbitrarily. We will now determine the best value of this hyperparameter with cross-validation.\n",
    "\n",
    "- k의 값을 임의로 설정했었다.\n",
    "- k의 최적의 값을 cross-validation으로 구해보자"
   ]
  },
  {
   "cell_type": "code",
   "execution_count": null,
   "id": "65cef347",
   "metadata": {
    "tags": [
     "code"
    ]
   },
   "outputs": [],
   "source": [
    "num_folds = 5\n",
    "# train data를 나눌 개수\n",
    "k_choices = [1, 3, 5, 8, 10, 12, 15, 20, 50, 100]\n",
    "# k 값 후보\n",
    "\n",
    "X_train_folds = []\n",
    "y_train_folds = []\n",
    "################################################################################\n",
    "# TODO:                                                                        #\n",
    "# Split up the training data into folds. After splitting, X_train_folds and    #\n",
    "# y_train_folds should each be lists of length num_folds, where                #\n",
    "# y_train_folds[i] is the label vector for the points in X_train_folds[i].     #\n",
    "# Hint: Look up the numpy array_split function.                                #\n",
    "################################################################################\n",
    "# *****START OF YOUR CODE (DO NOT DELETE/MODIFY THIS LINE)*****\n",
    "\n",
    "# folder의 개수에 따라 split\n",
    "X_train_folds = np.array_split(X_train, num_folds)\n",
    "y_train_folds = np.array_split(y_train, num_folds)\n",
    "\n",
    "# *****END OF YOUR CODE (DO NOT DELETE/MODIFY THIS LINE)*****\n",
    "\n",
    "# A dictionary holding the accuracies for different values of k that we find\n",
    "# when running cross-validation. After running cross-validation,\n",
    "# k_to_accuracies[k] should be a list of length num_folds giving the different\n",
    "# accuracy values that we found when using that value of k.\n",
    "k_to_accuracies = {}\n",
    "\n",
    "################################################################################\n",
    "# TODO:                                                                        #\n",
    "# Perform k-fold cross validation to find the best value of k. For each        #\n",
    "# possible value of k, run the k-nearest-neighbor algorithm num_folds times,   #\n",
    "# where in each case you use all but one of the folds as training data and the #\n",
    "# last fold as a validation set. Store the accuracies for all fold and all     #\n",
    "# values of k in the k_to_accuracies dictionary.                               #\n",
    "################################################################################\n",
    "# *****START OF YOUR CODE (DO NOT DELETE/MODIFY THIS LINE)*****\n",
    "\n",
    "for k in k_choices:\n",
    "    accuracy = []\n",
    "    for i in range(num_folds):\n",
    "        # i 번째만 validation set으로 빼주고 나머지는 합쳐서 train set으로 만들어주기\n",
    "        # valid_set = X_train_folds[i]\n",
    "        train_set = np.concatenate(X_train_folds[:i] + X_train_folds[i+1:])\n",
    "        label_set = np.concatenate(y_train_folds[:i] + y_train_folds[i+1:])\n",
    "        # classifier train -> train_set/label_set\n",
    "        classifier.train(train_set, label_set)\n",
    "        # k를 바꿔가며 prediction해보기\n",
    "        valid_pred = classifier.predict(X_train_folds[i], k=k)\n",
    "        # acc 구하기\n",
    "        valid_acc = np.sum(valid_pred == y_train_folds[i])/ valid_pred.size\n",
    "        accuracy.append(valid_acc)\n",
    "    \n",
    "    k_to_accuracies[k] = accuracy\n",
    "# *****END OF YOUR CODE (DO NOT DELETE/MODIFY THIS LINE)*****\n",
    "\n",
    "# Print out the computed accuracies\n",
    "for k in sorted(k_to_accuracies):\n",
    "    for accuracy in k_to_accuracies[k]:\n",
    "        print('k = %d, accuracy = %f' % (k, accuracy))"
   ]
  },
  {
   "cell_type": "code",
   "execution_count": null,
   "id": "c46775cb",
   "metadata": {
    "tags": [
     "pdf-ignore-input"
    ]
   },
   "outputs": [],
   "source": [
    "# plot the raw observations\n",
    "for k in k_choices:\n",
    "    accuracies = k_to_accuracies[k]\n",
    "    plt.scatter([k] * len(accuracies), accuracies)\n",
    "\n",
    "# plot the trend line with error bars that correspond to standard deviation\n",
    "accuracies_mean = np.array([np.mean(v) for k,v in sorted(k_to_accuracies.items())])\n",
    "accuracies_std = np.array([np.std(v) for k,v in sorted(k_to_accuracies.items())])\n",
    "plt.errorbar(k_choices, accuracies_mean, yerr=accuracies_std)\n",
    "plt.title('Cross-validation on k')\n",
    "plt.xlabel('k')\n",
    "plt.ylabel('Cross-validation accuracy')\n",
    "plt.show()"
   ]
  },
  {
   "cell_type": "code",
   "execution_count": null,
   "id": "a35e823a",
   "metadata": {
    "test": "cross_validation"
   },
   "outputs": [],
   "source": [
    "# Based on the cross-validation results above, choose the best value for k,   \n",
    "# retrain the classifier using all the training data, and test it on the test\n",
    "# data. You should be able to get above 28% accuracy on the test data.\n",
    "best_k = 1\n",
    "\n",
    "classifier = KNearestNeighbor()\n",
    "classifier.train(X_train, y_train)\n",
    "y_test_pred = classifier.predict(X_test, k=best_k)\n",
    "\n",
    "# Compute and display the accuracy\n",
    "num_correct = np.sum(y_test_pred == y_test)\n",
    "accuracy = float(num_correct) / num_test\n",
    "print('Got %d / %d correct => accuracy: %f' % (num_correct, num_test, accuracy))"
   ]
  },
  {
   "cell_type": "markdown",
   "id": "20cef1e9",
   "metadata": {
    "tags": [
     "pdf-inline"
    ]
   },
   "source": [
    "**Inline Question 3**\n",
    "\n",
    "Which of the following statements about $k$-Nearest Neighbor ($k$-NN) are true in a classification setting, and for all $k$? Select all that apply.\n",
    "1. The decision boundary of the k-NN classifier is linear.\n",
    "2. The training error of a 1-NN will always be lower than or equal to that of 5-NN.\n",
    "3. The test error of a 1-NN will always be lower than that of a 5-NN.\n",
    "4. The time needed to classify a test example with the k-NN classifier grows with the size of the training set.\n",
    "5. None of the above.\n",
    "\n",
    "$\\color{blue}{\\textit Your Answer:}$  \n",
    "\n",
    "answer : 2, 4\n",
    "\n",
    "\n",
    "$\\color{blue}{\\textit Your Explanation:}$  \n",
    "\n",
    "\n",
    "1. KNN의 decision boundary = non-linear\n",
    "2. training error란 training에 사용한 데이터를 test때 그대로 사용하는 것인데 1-NN의 경우 자기 자신을 찾아 distance가 0이 나올 것이지만, 5-NN의 경우 다른 것을 찾을 수도 있으므로 distance가 1-NN보다 항상 크다.\n",
    "3. 이것은 확신할 수 없다.\n",
    "4. training set의 크기가 커질 경우, KNN은 모든 train set과의 거리를 구하게 되므로 시간이 오래 걸리게 된다.\n"
   ]
  }
 ],
 "metadata": {
  "kernelspec": {
   "display_name": "Python 3.9.6 64-bit",
   "language": "python",
   "name": "python3"
  },
  "language_info": {
   "name": "python",
   "version": "3.9.6"
  },
  "vscode": {
   "interpreter": {
    "hash": "31f2aee4e71d21fbe5cf8b01ff0e069b9275f58929596ceb00d14d90e3e16cd6"
   }
  }
 },
 "nbformat": 4,
 "nbformat_minor": 5
}
